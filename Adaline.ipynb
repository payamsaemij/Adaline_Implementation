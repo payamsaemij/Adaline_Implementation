{
 "cells": [
  {
   "attachments": {},
   "cell_type": "markdown",
   "metadata": {},
   "source": [
    "# payam_saemi\n",
    "### Adaline implementation"
   ]
  },
  {
   "attachments": {},
   "cell_type": "markdown",
   "metadata": {},
   "source": [
    "#### Importing libs"
   ]
  },
  {
   "cell_type": "code",
   "execution_count": 2,
   "metadata": {},
   "outputs": [],
   "source": [
    "import numpy as np\n",
    "from matplotlib import pyplot as plt\n",
    "from matplotlib.colors import ListedColormap\n",
    "import pandas as pd"
   ]
  },
  {
   "attachments": {},
   "cell_type": "markdown",
   "metadata": {},
   "source": [
    "# generating data\n",
    "#### The first category: \n",
    "contains 100 data, whose x variable has a mean of 0 and a standard deviation of 0.1, and its y variable as well.\n",
    "It has a mean of 0 and a standard deviation of 0.4. \n",
    "\n",
    "#### The second category:\n",
    "contains 100 data, whose x variable has a mean of 1 and a standard deviation of 0.2, and its y variable as well.\n",
    "It has a mean of 1 and a standard deviation of 0.2."
   ]
  },
  {
   "cell_type": "code",
   "execution_count": 4,
   "metadata": {},
   "outputs": [],
   "source": [
    "xdata_mean_A , xdata_sigma_A , n = 0 , 0.1 , 100\n",
    "ydata_mean_A , ydata_sigma_A = 0 , 0.4\n",
    "xdata_mean_B , xdata_sigma_B = 1 , 0.2\n",
    "ydata_mean_B , ydata_sigma_B = 1 , 0.2\n",
    "\n",
    "# class A :\n",
    "Xdata_A = np.random.normal(xdata_mean_A , xdata_sigma_A , n)\n",
    "Ydata_A = np.random.normal(ydata_mean_A , xdata_sigma_A , n)\n",
    "# Class B :\n",
    "Xdata_B = np.random.normal(xdata_mean_B , xdata_sigma_B , n)\n",
    "Ydata_B = np.random.normal(ydata_mean_B , ydata_sigma_B , n)\n"
   ]
  },
  {
   "attachments": {},
   "cell_type": "markdown",
   "metadata": {},
   "source": [
    "## Concating\n",
    "concating data to generate final data_set"
   ]
  },
  {
   "cell_type": "code",
   "execution_count": 5,
   "metadata": {},
   "outputs": [],
   "source": [
    "## ClassA_matrix\n",
    "Xdata_A_matrix = np.matrix([Xdata_A])\n",
    "Ydata_A_matrix = np.matrix([Ydata_A])\n",
    "ClassA_matrix = np.concatenate((Xdata_A_matrix, Ydata_A_matrix), axis=0)\n",
    "LabelA = -np.ones(n)\n",
    "LabelA = np.matrix([LabelA])\n",
    "ClassA_matrix = np.concatenate((ClassA_matrix, LabelA), axis=0)\n",
    "ClassA_matrix = ClassA_matrix.transpose()\n",
    "\n",
    "\n",
    "## ClassB_matrix\n",
    "Xdata_B_matrix = np.matrix([Xdata_B])\n",
    "Ydata_B_matrix = np.matrix([Ydata_B])\n",
    "ClassB_matrix = np.concatenate((Xdata_B_matrix, Ydata_B_matrix), axis=0)\n",
    "LabelB = np.ones(n)\n",
    "LabelB = np.matrix([LabelB])\n",
    "ClassB_matrix = np.concatenate((ClassB_matrix, LabelB), axis=0)\n",
    "ClassB_matrix = ClassB_matrix.transpose()\n",
    "\n",
    "\n",
    "final_data = np.concatenate((ClassA_matrix , ClassB_matrix) , axis=0)\n",
    "np.random.shuffle(final_data)\n",
    "\n",
    "\n",
    "X = final_data[:,:2]\n",
    "target = final_data[:,2]"
   ]
  },
  {
   "cell_type": "code",
   "execution_count": null,
   "metadata": {},
   "outputs": [],
   "source": []
  }
 ],
 "metadata": {
  "kernelspec": {
   "display_name": "Python 3",
   "language": "python",
   "name": "python3"
  },
  "language_info": {
   "codemirror_mode": {
    "name": "ipython",
    "version": 3
   },
   "file_extension": ".py",
   "mimetype": "text/x-python",
   "name": "python",
   "nbconvert_exporter": "python",
   "pygments_lexer": "ipython3",
   "version": "3.10.0"
  },
  "orig_nbformat": 4,
  "vscode": {
   "interpreter": {
    "hash": "9f1d86258a2e0267a3f3ec653d053f5a4c6e2b4124c71ab3afc2425633cd26f9"
   }
  }
 },
 "nbformat": 4,
 "nbformat_minor": 2
}
